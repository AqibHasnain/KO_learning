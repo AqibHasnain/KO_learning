{
 "cells": [
  {
   "cell_type": "code",
   "execution_count": 1,
   "metadata": {},
   "outputs": [],
   "source": [
    "import numpy as np\n",
    "import matplotlib.pyplot as plt\n",
    "plt.rcParams.update({'font.size':14})\n",
    "from scipy.integrate import odeint\n",
    "import pickle"
   ]
  },
  {
   "cell_type": "code",
   "execution_count": 2,
   "metadata": {},
   "outputs": [],
   "source": [
    "def toggle_switch(y,t): # two state system, with no inputs\n",
    "\n",
    "    a1 = 0.5;\n",
    "    a2 = 0.5;\n",
    "    d1 = 0.5;\n",
    "    d2 = 0.5;\n",
    "    n1 = 4; \n",
    "    n2 = 2; \n",
    "    K1 = 1;\n",
    "    K2 = 1;\n",
    "\n",
    "    dy0 = a1/(K1+y[1]**n2) - d1*y[0] \n",
    "    dy1 = a1/(K2+y[0]**n1) - d2*y[1]\n",
    "    \n",
    "    return[dy0,dy1]"
   ]
  },
  {
   "cell_type": "code",
   "execution_count": 4,
   "metadata": {},
   "outputs": [],
   "source": [
    "numStates = 2\n",
    "\n",
    "tStart = 0.0\n",
    "tEnd = 40\n",
    "dt = 0.5\n",
    "numTimepoints = int(round((tEnd-tStart)/dt))\n",
    "tSpan = np.linspace(tStart,tEnd,numTimepoints)\n",
    "\n",
    "numTrajectories = 100 # pick a number divisible by 2 for splitting into train and test sets\n",
    "\n",
    "data = np.zeros(shape=[numStates,numTimepoints,numTrajectories])\n",
    "for traj in range(0,numTrajectories):\n",
    "    x0 = np.random.uniform(0.01,1,numStates)\n",
    "    x = odeint(toggle_switch,x0,tSpan)\n",
    "    x = x.T[:,:,np.newaxis]\n",
    "    data[:,:,traj:traj+1] = x\n",
    "    \n",
    "    if numTrajectories < 21:\n",
    "        plt.figure();\n",
    "        h = plt.plot(tSpan,data[:,:,traj].T);\n",
    "        plt.legend((h[0],h[1]),('x1','x2'),loc='best');\n",
    "        plt.xlabel('time');\n",
    "        plt.ylabel('protein concentration');\n",
    "# plt.savefig('sample_traj.png')"
   ]
  },
  {
   "cell_type": "code",
   "execution_count": 5,
   "metadata": {},
   "outputs": [],
   "source": [
    "from copy import deepcopy\n",
    "data_normed = deepcopy(data)\n",
    "for i in range(0,numTrajectories):\n",
    "    data_normed[:,:,i] = (data[:,:,i]-data[:,:,i].mean(axis=1).reshape(numStates,1))/(data[:,:,i].std(axis=1).reshape(numStates,1))"
   ]
  },
  {
   "cell_type": "code",
   "execution_count": 6,
   "metadata": {},
   "outputs": [],
   "source": [
    "data_normed = data_normed.reshape(numStates,int(numTimepoints*numTrajectories),order='F')\n",
    "data = data.reshape(numStates,int(numTimepoints*numTrajectories),order='F')\n",
    "data_normed = (data - data.mean(axis=1).reshape(numStates,1))/data.std(axis=1).reshape(numStates,1)"
   ]
  },
  {
   "cell_type": "code",
   "execution_count": 7,
   "metadata": {},
   "outputs": [],
   "source": [
    "# pickle.dump([data_normed,numTimepoints,numTrajectories], open('toggle_switch_data_normed.p', 'wb'))\n",
    "# pickle.dump([data,numTimepoints,numTrajectories], open('toggle_switch_data.p', 'wb'))"
   ]
  },
  {
   "cell_type": "code",
   "execution_count": 10,
   "metadata": {},
   "outputs": [],
   "source": [
    "Xp = data[:,:-1].T\n",
    "Xf = data[:,1:].T\n",
    "\n",
    "save_deepDMD = 0\n",
    "if save_deepDMD: \n",
    "    pickle.dump([Xp,Xf],open('/Users/aqib/Desktop/UCSB/Research/BCCL/darpa-sd2/deepDMD/koopman_data/toggle_switch_sim.p','wb'))"
   ]
  }
 ],
 "metadata": {
  "kernelspec": {
   "display_name": "Python 3",
   "language": "python",
   "name": "python3"
  },
  "language_info": {
   "codemirror_mode": {
    "name": "ipython",
    "version": 3
   },
   "file_extension": ".py",
   "mimetype": "text/x-python",
   "name": "python",
   "nbconvert_exporter": "python",
   "pygments_lexer": "ipython3",
   "version": "3.7.3"
  }
 },
 "nbformat": 4,
 "nbformat_minor": 2
}
