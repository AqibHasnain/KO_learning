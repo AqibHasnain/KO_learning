{
 "cells": [
  {
   "cell_type": "code",
   "execution_count": 1,
   "metadata": {},
   "outputs": [
    {
     "name": "stdout",
     "output_type": "stream",
     "text": [
      "Using PyTorch Version 1.8.1\n"
     ]
    }
   ],
   "source": [
    "import numpy as np\n",
    "import math\n",
    "import matplotlib.pyplot as plt\n",
    "import seaborn as sn\n",
    "import pickle\n",
    "import torch\n",
    "import os\n",
    "from deep_KG_learning import Net "
   ]
  },
  {
   "cell_type": "code",
   "execution_count": 2,
   "metadata": {},
   "outputs": [],
   "source": [
    "### Loading trained network ### \n",
    "\n",
    "script_dir = os.path.dirname('deep_KO_learning.py') # getting relative path\n",
    "trained_models_path = os.path.join(script_dir, 'trained_models') # which relative path do you want to see\n",
    "data_path = os.path.join(script_dir,'data/')\n",
    "\n",
    "netsize_dir = trained_models_path + '/slow_manifold_KG_netsize.pickle' # contains the shape of network\n",
    "net_dir = trained_models_path+'/slow_manifold_KG_net.pt' # contains params of network\n",
    "\n",
    "NUM_INPUTS,NUM_OUTPUTS,HL_SIZES = pickle.load(open(netsize_dir,'rb'))\n",
    "\n",
    "model = Net(NUM_INPUTS,NUM_OUTPUTS,HL_SIZES)\n",
    "model.load_state_dict(torch.load(net_dir))\n",
    "model.eval();"
   ]
  },
  {
   "cell_type": "code",
   "execution_count": 3,
   "metadata": {},
   "outputs": [
    {
     "name": "stdout",
     "output_type": "stream",
     "text": [
      "Dimension of the state: 2\n",
      "Number of trajectories: 80\n",
      "Number of total snapshots: 8000\n"
     ]
    }
   ],
   "source": [
    "### Loading corresponding dataset ###\n",
    "\n",
    "# Datasets\n",
    "file_dir = 'slow_manifold_KG.p' \n",
    "# file_dir = 'toggle_switch_KG.p'\n",
    "\n",
    "def get_snapshot_matrices(X,nT,nTraj): \n",
    "    '''This function assumes the global snapshot matrix is constructed with trajectories \n",
    "        sequentially placed in the columns'''\n",
    "    prevInds = [x for x in range(0,nT-1)]\n",
    "    forInds = [x for x in range(1,nT)]\n",
    "    for i in range(0,nTraj-1):\n",
    "        if i == 0:\n",
    "            more_prevInds = [x + nT for x in prevInds]\n",
    "            more_forInds = [x + nT for x in forInds]\n",
    "        else: \n",
    "            more_prevInds = [x + nT for x in more_prevInds]\n",
    "            more_forInds = [x + nT for x in more_forInds]\n",
    "        prevInds = prevInds + more_prevInds\n",
    "        forInds = forInds + more_forInds\n",
    "    Xp = X[:,prevInds]\n",
    "    Xf = X[:,forInds]\n",
    "    return Xp,Xf\n",
    "\n",
    "X,nT,nTraj,dt_list = pickle.load(open(data_path+file_dir,'rb'))\n",
    "Xp,Xf = get_snapshot_matrices(X,nT,nTraj)\n",
    "trainXp = torch.Tensor(Xp.T)\n",
    "trainXf = torch.Tensor(Xf.T)\n",
    "testX = torch.Tensor(X.T)\n",
    "\n",
    "numDatapoints = nT*nTraj # number of total snapshots\n",
    "\n",
    "print('Dimension of the state: ' + str(trainXp.shape[1]));\n",
    "print('Number of trajectories: ' + str(nTraj));\n",
    "print('Number of total snapshots: ' + str(nT*nTraj));"
   ]
  },
  {
   "cell_type": "code",
   "execution_count": 4,
   "metadata": {},
   "outputs": [],
   "source": [
    "def pred(net,Xp,Xf,nObs,dt_list,step='N'):\n",
    "    '''This function computes the models 1-step or N-step prediction, N being the number of snapshots in each trajectory'''\n",
    "\n",
    "    # net: the pytorch model class\n",
    "    # Xp and Xp: the snapshot matrices\n",
    "    # nObs: number of observables in the model\n",
    "    # dt_list: list of timesteps \n",
    "    \n",
    "    PsiXf = net(Xf) # the truth \n",
    "    KPsiXp = torch.zeros(Xp.shape[0],nObs)\n",
    "#     pinvV = torch.pinverse(net.V)\n",
    "\n",
    "    if step == 'N':\n",
    "        \n",
    "        for i in range(0,Xp.shape[0],nT-1):\n",
    "            KPsiXp[i,:] = net(Xf[i:i+1])\n",
    "        for i in range(1,Xp.shape[0]):\n",
    "            dt = dt_list[i]\n",
    "            K = torch.matrix_exp(net.Lgen*dt)\n",
    "#             eL = torch.diag_embed(torch.exp(net.L*dt)) \n",
    "#             K = torch.matmul(torch.matmul(net.V,eL),pinvV)\n",
    "            if i not in range(0,Xp.shape[0],nT-1):\n",
    "                KPsiXp[i,:] = torch.matmul(net(KPsiXp[i-1:i,1:Xp.shape[1]+1]),K) \n",
    "        \n",
    "    if step == '1': \n",
    "        \n",
    "        for i in range(0,trainXp.shape[0]):\n",
    "            dt = dt_list[i]\n",
    "            K = torch.matrix_exp(net.Lgen*dt)\n",
    "#             eL = torch.diag_embed(torch.exp(net.L*dt)) # exponential of the eigs, then embedded into a diagonal matrix\n",
    "#             K = torch.matmul(torch.matmul(net.V,eL),pinvV) # matrix representation of Koopman operator\n",
    "            KPsiXp[i,:] = torch.matmul(net(Xp[i:i+1]),K)  \n",
    "            \n",
    "    return KPsiXp, PsiXf\n",
    "        \n",
    "def plotPred(Xfpred,Xf,dimState,traj,tspan,step):\n",
    "    plt.rcParams.update({'font.size':14})\n",
    "    plt.figure();\n",
    "    for i in range(1,dimState+1):\n",
    "        plt.plot(tspan[1:],Xfpred[traj*(nT-1):traj*(nT-1)+nT-1,i].detach().numpy(),'s-',lw=2,ms=4,color='tab:blue');\n",
    "        plt.plot(tspan[1:],Xf[traj*(nT-1):traj*(nT-1)+nT-1,i].detach().numpy(),'o-',lw=2,ms=4,color='tab:orange');\n",
    "    plt.legend(['Predicted','Truth']);\n",
    "    plt.ylabel(r'$\\mathbf{x}$');\n",
    "    plt.title(r'$'+step+'$-step prediction')\n",
    "    plt.xlabel(r'$t$');\n",
    "    "
   ]
  },
  {
   "cell_type": "code",
   "execution_count": 5,
   "metadata": {},
   "outputs": [],
   "source": [
    "KPsiXpN, PsiXfN = pred(model,trainXp,trainXf,NUM_OUTPUTS,dt_list,step='N')\n",
    "KPsiXp1, PsiXf1 = pred(model,trainXp,trainXf,NUM_OUTPUTS,dt_list,step='1')\n"
   ]
  },
  {
   "cell_type": "code",
   "execution_count": 6,
   "metadata": {},
   "outputs": [],
   "source": [
    "# recovering the tSpan that was used to sample the data. \n",
    "tSpan = np.zeros(nT)\n",
    "tSpan[0] = 0\n",
    "for i in range(1,len(tSpan)):\n",
    "    tSpan[i] = tSpan[i-1] + dt_list[i-1] "
   ]
  },
  {
   "cell_type": "code",
   "execution_count": 26,
   "metadata": {
    "scrolled": false
   },
   "outputs": [
    {
     "data": {
      "image/png": "[encoded data removed]",
      "text/plain": [
       "<Figure size 432x288 with 1 Axes>"
      ]
     },
     "metadata": {
      "needs_background": "light"
     },
     "output_type": "display_data"
    },
    {
     "data": {
      "image/png": "[encoded data removed]",
      "text/plain": [
       "<Figure size 432x288 with 1 Axes>"
      ]
     },
     "metadata": {
      "needs_background": "light"
     },
     "output_type": "display_data"
    }
   ],
   "source": [
    "traj = np.random.randint(0,nTraj)\n",
    "plotPred(KPsiXpN,PsiXfN,trainXp.shape[1],traj,tSpan,'N')\n",
    "plotPred(KPsiXp1,PsiXf1,trainXp.shape[1],traj,tSpan,'1')"
   ]
  },
  {
   "cell_type": "code",
   "execution_count": null,
   "metadata": {},
   "outputs": [],
   "source": [
    "eVals = np.linalg.eigvals(model.Lgen.detach().numpy())\n",
    "plt.plot(np.real(eVals),np.imag(eVals),'o');\n",
    "plt.vlines(0.0,-4,4,color='black',alpha=0.75);\n",
    "plt.hlines(0.0,np.min(np.real(eVals)),np.max(np.real(eVals)),color='black',alpha=0.75);\n"
   ]
  },
  {
   "cell_type": "code",
   "execution_count": null,
   "metadata": {},
   "outputs": [],
   "source": []
  },
  {
   "cell_type": "code",
   "execution_count": null,
   "metadata": {},
   "outputs": [],
   "source": []
  },
  {
   "cell_type": "code",
   "execution_count": null,
   "metadata": {},
   "outputs": [],
   "source": []
  },
  {
   "cell_type": "code",
   "execution_count": null,
   "metadata": {},
   "outputs": [],
   "source": []
  },
  {
   "cell_type": "code",
   "execution_count": null,
   "metadata": {},
   "outputs": [],
   "source": []
  },
  {
   "cell_type": "code",
   "execution_count": null,
   "metadata": {},
   "outputs": [],
   "source": []
  },
  {
   "cell_type": "code",
   "execution_count": null,
   "metadata": {},
   "outputs": [],
   "source": []
  },
  {
   "cell_type": "code",
   "execution_count": null,
   "metadata": {},
   "outputs": [],
   "source": []
  }
 ],
 "metadata": {
  "kernelspec": {
   "display_name": "Python 3",
   "language": "python",
   "name": "python3"
  },
  "language_info": {
   "codemirror_mode": {
    "name": "ipython",
    "version": 3
   },
   "file_extension": ".py",
   "mimetype": "text/x-python",
   "name": "python",
   "nbconvert_exporter": "python",
   "pygments_lexer": "ipython3",
   "version": "3.8.6"
  }
 },
 "nbformat": 4,
 "nbformat_minor": 2
}
