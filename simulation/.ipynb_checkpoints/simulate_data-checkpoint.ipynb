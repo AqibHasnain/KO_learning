{
 "cells": [
  {
   "cell_type": "code",
   "execution_count": null,
   "metadata": {},
   "outputs": [],
   "source": [
    "import numpy as np\n",
    "import matplotlib.pyplot as plt\n",
    "plt.rcParams.update({'font.size':14})\n",
    "from scipy.integrate import odeint\n",
    "import pickle"
   ]
  },
  {
   "cell_type": "code",
   "execution_count": null,
   "metadata": {},
   "outputs": [],
   "source": [
    "def toggle_switch(y,t): # two state system, with no inputs\n",
    "\n",
    "    a1 = 0.5;\n",
    "    a2 = 0.5;\n",
    "    d1 = 0.5;\n",
    "    d2 = 0.5;\n",
    "    n1 = 4; \n",
    "    n2 = 2; \n",
    "    K1 = 1;\n",
    "    K2 = 1;\n",
    "\n",
    "    dy0 = a1/(K1+y[1]**n2) - d1*y[0] \n",
    "    dy1 = a1/(K2+y[0]**n1) - d2*y[1]\n",
    "    \n",
    "    return[dy0,dy1]\n",
    "\n",
    "def slow_manifold(y,t): # two state system, with no inputs\n",
    "\n",
    "    mu = -0.1\n",
    "    lam = -0.2\n",
    "\n",
    "    dy0 = mu*y[0]\n",
    "    dy1 = lam*(y[1] - y[0]**2)\n",
    "    \n",
    "    return[dy0,dy1]\n",
    "\n",
    "def arc4s(x,t): # activator repressor clock 4 state model\n",
    "    \n",
    "    gamma_A = 1.\n",
    "    gamma_B = 0.5\n",
    "    delta_A = 1.\n",
    "    delta_B = 1.\n",
    "    alpha_A0= 0.04\n",
    "    alpha_B0= 0.004\n",
    "    alpha_A = 250.\n",
    "    alpha_B = 30.\n",
    "    K_A = 1.\n",
    "    K_B = 1.\n",
    "    kappa_A = 1.\n",
    "    kappa_B = 1.\n",
    "    n = 2.\n",
    "    m = 4.\n",
    "    k_3n = 3.\n",
    "    k_3d = 1.08\n",
    "    \n",
    "    x1dot = - delta_A * x[0] + (alpha_A*(x[1]/K_A)**n + alpha_A0)/(1 + (x[1]/K_A)**n + (x[3]/K_B)**m)\n",
    "    x2dot = - gamma_A * x[1] + kappa_A*x[0]\n",
    "    x3dot = - delta_B * x[2] + (alpha_B*(x[1]/K_A)**n + alpha_B0)/(1 + (x[1]/K_A)**n)\n",
    "    x4dot = - gamma_B * x[3] + kappa_B*x[2]\n",
    "    \n",
    "    return [x1dot,x2dot,x3dot,x4dot]\n",
    "    "
   ]
  },
  {
   "cell_type": "code",
   "execution_count": null,
   "metadata": {},
   "outputs": [],
   "source": [
    "KG = True\n",
    "# sysName = 'toggle_switch_KO.p' \n",
    "sysName = 'slow_manifold_KG.p'\n",
    "# sysName = 'arc4s_KO.p'\n",
    "\n",
    "numStates = 2\n",
    "\n",
    "tStart = 0.0\n",
    "tEnd = 50\n",
    "dt = 0.1\n",
    "numTimepoints = int(round((tEnd-tStart)/dt))\n",
    "tSpan = np.linspace(tStart,tEnd,numTimepoints)\n",
    "\n",
    "numTrajectories = 80 # pick a number divisible by 2 for splitting into train and test sets\n",
    "\n",
    "data = np.zeros(shape=[numStates,numTimepoints,numTrajectories])\n",
    "for traj in range(0,numTrajectories):\n",
    "    x0 = np.random.uniform(0,2,numStates)\n",
    "    x = odeint(slow_manifold,x0,tSpan)\n",
    "    x = x.T[:,:,np.newaxis]\n",
    "    data[:,:,traj:traj+1] = x\n",
    "    \n",
    "    if traj < 10:\n",
    "        plt.figure();\n",
    "        h = plt.plot(tSpan,data[:,:,traj].T);\n",
    "        plt.legend((h[0],h[1]),('x1','x2'),loc='best');\n",
    "        plt.xlabel('time');"
   ]
  },
  {
   "cell_type": "code",
   "execution_count": null,
   "metadata": {},
   "outputs": [],
   "source": [
    "if KG:\n",
    "    nSamples = data.shape[1] // 5\n",
    "    sel_inds = [] # indices we will randomly select\n",
    "    sel_inds.append(0) # always grab the initial condition\n",
    "    while len(sel_inds) < (nSamples): \n",
    "        r = np.random.randint(1,data.shape[1])\n",
    "        if r not in sel_inds:\n",
    "            sel_inds.append(r)\n",
    "    sel_inds.sort() \n",
    "\n",
    "#  getting a list of ∆t's for KG learning. \n",
    "    sel_tSpan = tSpan[sel_inds]\n",
    "    dt_list = []\n",
    "    for i in range(0,len(sel_tSpan)-1):\n",
    "        dt_list.append(sel_tSpan[i+1] - sel_tSpan[i])\n",
    "    dt_list_final = []\n",
    "    for i in range(0,numTrajectories):\n",
    "        dt_list_final += dt_list\n",
    "\n",
    "    data = data[:,sel_inds,:]"
   ]
  },
  {
   "cell_type": "code",
   "execution_count": null,
   "metadata": {},
   "outputs": [],
   "source": [
    "data = data.reshape(numStates,int(data.shape[1]*numTrajectories),order='F')\n",
    "data_normed = (data - data.mean(axis=1).reshape(numStates,1))/data.std(axis=1).reshape(numStates,1)"
   ]
  },
  {
   "cell_type": "code",
   "execution_count": null,
   "metadata": {},
   "outputs": [],
   "source": [
    "kk = np.random.randint(0,numTrajectories)\n",
    "print(kk)\n",
    "plt.plot(data_normed[:,kk*len(sel_inds):kk*len(sel_inds)+len(sel_inds)].T,'o--');"
   ]
  },
  {
   "cell_type": "code",
   "execution_count": null,
   "metadata": {},
   "outputs": [],
   "source": [
    "import os\n",
    "count_updir = 0\n",
    "if count_updir == 0:\n",
    "    os.chdir('..') # only run this once\n",
    "    count_updir += 1\n",
    "    save_data_to = os.getcwd() + '/data/' + sysName\n",
    "\n",
    "if KG: \n",
    "    pickle.dump([data_normed,len(sel_inds),numTrajectories,dt_list_final], open(save_data_to, 'wb'))\n",
    "else:\n",
    "    pickle.dump([data_normed,numTimepoints,numTrajectories], open(save_data_to, 'wb'))"
   ]
  },
  {
   "cell_type": "code",
   "execution_count": null,
   "metadata": {},
   "outputs": [],
   "source": []
  }
 ],
 "metadata": {
  "kernelspec": {
   "display_name": "Python 3",
   "language": "python",
   "name": "python3"
  },
  "language_info": {
   "codemirror_mode": {
    "name": "ipython",
    "version": 3
   },
   "file_extension": ".py",
   "mimetype": "text/x-python",
   "name": "python",
   "nbconvert_exporter": "python",
   "pygments_lexer": "ipython3",
   "version": "3.8.6"
  }
 },
 "nbformat": 4,
 "nbformat_minor": 2
}
