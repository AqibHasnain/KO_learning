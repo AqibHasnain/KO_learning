{
 "cells": [
  {
   "cell_type": "code",
   "execution_count": 1,
   "metadata": {},
   "outputs": [
    {
     "name": "stdout",
     "output_type": "stream",
     "text": [
      "Using PyTorch Version 1.4.0\n"
     ]
    }
   ],
   "source": [
    "import numpy as np\n",
    "import matplotlib.pyplot as plt\n",
    "import pickle\n",
    "import torch\n",
    "import torch.nn as nn\n",
    "import torch.nn.functional as F\n",
    "from torch.utils.data import DataLoader\n",
    "print(\"Using PyTorch Version %s\" %torch.__version__)\n",
    "plt.rcParams.update({'font.size':16})\n",
    "plt.rcParams.update({'figure.autolayout': True})"
   ]
  },
  {
   "cell_type": "code",
   "execution_count": 2,
   "metadata": {},
   "outputs": [],
   "source": [
    "### Datasets ###\n",
    "\n",
    "dataset = 2 # each dataset contains the global snapshot array as well as the number of snapshots per trajectory and the number of trajectories\n",
    "\n",
    "# add new datasets as below\n",
    "if dataset == 0: \n",
    "    file_dir = 'toggle_switch_data.p'\n",
    "    \n",
    "if dataset == 1: \n",
    "    file_dir = 'toggle_switch_data_normed.p'\n",
    "    \n",
    "if dataset == 2: \n",
    "    file_dir = 'stable_linsys.p'\n"
   ]
  },
  {
   "cell_type": "code",
   "execution_count": 3,
   "metadata": {},
   "outputs": [
    {
     "name": "stdout",
     "output_type": "stream",
     "text": [
      "Dimension of the state: 2\n",
      "Number of trajectories: 100\n",
      "Number of total snapshots: 10000\n",
      "Number of training snapshots: 5000\n",
      "Number of test snapshots: 5000\n"
     ]
    }
   ],
   "source": [
    "data,nT,nTraj = pickle.load(open(file_dir,'rb'))\n",
    "trainData = torch.Tensor(data[:,0:int(data.shape[1]/2)].T)\n",
    "testData = torch.Tensor(data[:,int(data.shape[1]/2):int(data.shape[1])].T)\n",
    "\n",
    "print('Dimension of the state: ' + str(trainData.shape[1]));\n",
    "print('Number of trajectories: ' + str(nTraj));\n",
    "print('Number of total snapshots: ' + str(data.shape[1]));\n",
    "print('Number of training snapshots: ' + str(trainData.shape[0]));\n",
    "print('Number of test snapshots: ' + str(testData.shape[0]));"
   ]
  },
  {
   "cell_type": "code",
   "execution_count": 24,
   "metadata": {},
   "outputs": [],
   "source": [
    "### Neural network parameters ###\n",
    "\n",
    "NUM_INPUTS = trainData.shape[1] # dimension of input\n",
    "NUM_HL = 3 # number of hidden layers (excludes the input and output layers)\n",
    "NODES_HL = 1 # number of nodes per hidden layer (number of learned observables)\n",
    "HL_SIZES = [NODES_HL for i in range(0,NUM_HL+1)] \n",
    "NUM_OUTPUTS = NUM_INPUTS + HL_SIZES[-1] + 1 # output layer takes in dimension of input + 1 + dimension of hl's\n",
    "BATCH_SIZE = int(nT/10)\n"
   ]
  },
  {
   "cell_type": "code",
   "execution_count": 25,
   "metadata": {},
   "outputs": [
    {
     "name": "stdout",
     "output_type": "stream",
     "text": [
      "Net(\n",
      "  (linears): ModuleList(\n",
      "    (0): Linear(in_features=2, out_features=1, bias=True)\n",
      "    (1): Linear(in_features=1, out_features=1, bias=True)\n",
      "    (2): Linear(in_features=1, out_features=1, bias=True)\n",
      "    (3): Linear(in_features=1, out_features=1, bias=True)\n",
      "    (4): Linear(in_features=4, out_features=4, bias=False)\n",
      "  )\n",
      ")\n"
     ]
    }
   ],
   "source": [
    "class Net(nn.Module):\n",
    "    \n",
    "    def __init__(self, input_dim, output_dim, hl_sizes):\n",
    "        super(Net, self).__init__()\n",
    "        current_dim = input_dim\n",
    "        self.linears = nn.ModuleList()\n",
    "        for hl_dim in hl_sizes:\n",
    "            self.linears.append(nn.Linear(current_dim, hl_dim))\n",
    "            current_dim = hl_dim\n",
    "        self.linears.append(nn.Linear(output_dim, output_dim,bias=False))\n",
    "\n",
    "    def forward(self, x):\n",
    "        input_vecs = x\n",
    "        for layer in self.linears[:-1]:\n",
    "            x = F.relu(layer(x))\n",
    "        y = torch.cat((torch.Tensor(np.ones((x.shape[0],1))),input_vecs,x),dim=1)\n",
    "        x = self.linears[-1](y)\n",
    "        return {'KPsiXp':x,'PsiXf':y} \n",
    "\n",
    "net = Net(NUM_INPUTS,NUM_OUTPUTS,HL_SIZES)\n",
    "print(net)"
   ]
  },
  {
   "cell_type": "code",
   "execution_count": 26,
   "metadata": {},
   "outputs": [],
   "source": [
    "# Defining the loss function and the optimizer\n",
    "\n",
    "LEARNING_RATE = 0.025\n",
    "L2_REG = 0.0\n",
    "MOMENTUM = 0.0\n",
    "\n",
    "loss_func = nn.MSELoss()\n",
    "optimizer = torch.optim.SGD(net.parameters(),lr=LEARNING_RATE,momentum=MOMENTUM,weight_decay=L2_REG)"
   ]
  },
  {
   "cell_type": "code",
   "execution_count": 27,
   "metadata": {
    "scrolled": true
   },
   "outputs": [
    {
     "name": "stdout",
     "output_type": "stream",
     "text": [
      "[0] loss = 4.9805814342107624e-05\n",
      "[10] loss = 2.880715956575519e-13\n"
     ]
    }
   ],
   "source": [
    "# Train the network \n",
    "print_less_often = 20\n",
    "eps = 1e-14\n",
    "train_loss = []\n",
    "maxEpochs = 10000\n",
    "prev_loss = 0\n",
    "curr_loss = 1e10\n",
    "epoch = 0\n",
    "m = 20 # BATCH_SIZE # prediction window for loss function, can't exceed nT\n",
    "numDatapoints = trainData.shape[0]\n",
    "net.train()\n",
    "while (np.abs(curr_loss-prev_loss) > eps) and (epoch <= maxEpochs):\n",
    "    prev_loss = curr_loss\n",
    "    for i in range(0,trainData.shape[0],BATCH_SIZE):\n",
    "        \n",
    "        Kpsixp = net(trainData[i:i+BATCH_SIZE-1])['KPsiXp'] \n",
    "        psixf = net(trainData[i+1:i+BATCH_SIZE])['PsiXf']\n",
    "        loss = loss_func(psixf, Kpsixp) \n",
    "        \n",
    "#         pred_init_ind = np.random.randint(0,numDatapoints-m-10)\n",
    "#         psix0 = net(trainData[i:i+10])['psi_xf'] \n",
    "#         psixm = net(trainData[i+m-1:i+m])['psi_xf']\n",
    "#         K = net.fcLast.weight[:]\n",
    "#         loss = loss_func(psixf,Kpsixp) + loss_func(psixm,psix0@(torch.matrix_power(K,m)))\n",
    "        \n",
    "        optimizer.zero_grad()\n",
    "        loss.backward()\n",
    "        optimizer.step()\n",
    "    curr_loss = loss.item()\n",
    "    if epoch % print_less_often == 0:\n",
    "        print('['+str(epoch)+']'+' loss = '+str(loss.item()))\n",
    "        train_loss.append(loss.item()) \n",
    "    epoch+=1\n",
    "print('['+str(epoch)+']'+' loss = '+ str(loss.item()))"
   ]
  },
  {
   "cell_type": "code",
   "execution_count": 28,
   "metadata": {},
   "outputs": [],
   "source": [
    "K = net.linears[-1].weight[:].detach().numpy()\n"
   ]
  },
  {
   "cell_type": "code",
   "execution_count": 30,
   "metadata": {},
   "outputs": [
    {
     "name": "stdout",
     "output_type": "stream",
     "text": [
      "tensor([[ 1.0000e+00,  1.4398e-02,  3.3801e-04, -1.3241e-13]],\n",
      "       grad_fn=<MmBackward>)\n",
      "tensor([[1.0000e+00, 1.4398e-02, 3.3801e-04, 0.0000e+00]],\n",
      "       grad_fn=<CatBackward>)\n"
     ]
    }
   ],
   "source": [
    "# a quick test\n",
    "net.eval()\n",
    "Kpsixp_test = net(testData[nT-2:nT-1])['KPsiXp']\n",
    "psixf_test = net(testData[nT-1:nT])['PsiXf']\n",
    "print(Kpsixp_test)\n",
    "print(psixf_test)\n"
   ]
  },
  {
   "cell_type": "code",
   "execution_count": 31,
   "metadata": {},
   "outputs": [],
   "source": [
    "psixp_test = net(testData)['PsiXf']\n",
    "psixp_test = psixp_test.detach().numpy().T"
   ]
  },
  {
   "cell_type": "code",
   "execution_count": 35,
   "metadata": {},
   "outputs": [
    {
     "name": "stdout",
     "output_type": "stream",
     "text": [
      "Trajectory 23, MSE: 0.0\n"
     ]
    },
    {
     "data": {
      "image/png": "[encoded data removed]",
      "text/plain": [
       "<Figure size 432x288 with 1 Axes>"
      ]
     },
     "metadata": {
      "needs_background": "light"
     },
     "output_type": "display_data"
    }
   ],
   "source": [
    "import matplotlib.lines as mlines\n",
    "\n",
    "numStates = 2\n",
    "traj = np.random.randint(0,nTraj/2)\n",
    "init_index = traj*(nT)\n",
    "\n",
    "predHorizon = nT - 1\n",
    "psixf_pred = np.zeros((K.shape[0],predHorizon))\n",
    "for i in range(0,predHorizon):\n",
    "    psixf_pred[:,i:i+1] = np.dot(np.linalg.matrix_power(K,i),psixp_test[:,init_index:init_index+1]) \n",
    "\n",
    "mse = np.linalg.norm(psixp_test[:,init_index:init_index+predHorizon] - psixf_pred,'fro')/np.linalg.norm(psixp_test[:,init_index:init_index+predHorizon],'fro')\n",
    "print('Trajectory ' + str(traj) + ', MSE: ' + str(round(mse,3)))\n",
    "\n",
    "plt.figure()    \n",
    "for i in range(1,numStates+1):\n",
    "    plt.plot(psixp_test[i,init_index:init_index+predHorizon],lw=3,color='tab:blue');\n",
    "    plt.plot(psixf_pred[i,0:predHorizon],'--',lw=3,color='tab:orange');\n",
    "#     plt.plot(psixp_test[i,init_index:init_index+30],lw=6,color='tab:blue');\n",
    "#     plt.plot(psixf_pred[i,0:30],'--',lw=6,color='tab:orange');\n",
    "plt.xlabel('Time')\n",
    "plt.ylabel('$\\mathbf{x}$')\n",
    "# plt.xlim([-4,200])\n",
    "# plt.grid(True)\n",
    "truthLeg = mlines.Line2D([], [], color='black',linestyle='-',marker='',label='Truth')\n",
    "predLeg = mlines.Line2D([], [], color='black',linestyle='--',label='Predicted')\n",
    "plt.legend(handles=[truthLeg,predLeg]);\n",
    "# plt.savefig('repr_preds_traj'+str(traj)+'.pdf')"
   ]
  },
  {
   "cell_type": "code",
   "execution_count": 31,
   "metadata": {
    "scrolled": true
   },
   "outputs": [
    {
     "data": {
      "image/png": "[encoded data removed]",
      "text/plain": [
       "<Figure size 432x288 with 2 Axes>"
      ]
     },
     "metadata": {
      "needs_background": "light"
     },
     "output_type": "display_data"
    },
    {
     "data": {
      "image/png": "[encoded data removed]",
      "text/plain": [
       "<Figure size 432x360 with 1 Axes>"
      ]
     },
     "metadata": {
      "needs_background": "light"
     },
     "output_type": "display_data"
    }
   ],
   "source": [
    "import seaborn as sn\n",
    "plt.figure();\n",
    "sn.heatmap(K);\n",
    "\n",
    "import math\n",
    "theta = np.linspace(0,2*math.pi,100)\n",
    "plt.figure(figsize=(6,5));\n",
    "plt.plot(np.real(np.linalg.eigvals(K)),np.imag(np.linalg.eigvals(K)),'o',ms=10);\n",
    "plt.plot(np.cos(theta),np.sin(theta),color='black');\n",
    "plt.ylabel('$Imag(\\lambda)$');\n",
    "plt.xlabel('$Real(\\lambda)$');\n",
    "plt.axis('equal');\n",
    "# plt.savefig('toggleswitch_eigvals.pdf')"
   ]
  }
 ],
 "metadata": {
  "kernelspec": {
   "display_name": "Python 3",
   "language": "python",
   "name": "python3"
  },
  "language_info": {
   "codemirror_mode": {
    "name": "ipython",
    "version": 3
   },
   "file_extension": ".py",
   "mimetype": "text/x-python",
   "name": "python",
   "nbconvert_exporter": "python",
   "pygments_lexer": "ipython3",
   "version": "3.7.3"
  }
 },
 "nbformat": 4,
 "nbformat_minor": 2
}
