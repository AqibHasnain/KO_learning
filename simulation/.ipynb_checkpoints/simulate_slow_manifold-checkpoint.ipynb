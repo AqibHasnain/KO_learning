{
 "cells": [
  {
   "cell_type": "code",
   "execution_count": 2,
   "metadata": {},
   "outputs": [],
   "source": [
    "import numpy as np\n",
    "import matplotlib.pyplot as plt\n",
    "plt.rcParams.update({'font.size':14})\n",
    "from scipy.integrate import odeint\n",
    "import pickle"
   ]
  },
  {
   "cell_type": "code",
   "execution_count": 3,
   "metadata": {},
   "outputs": [],
   "source": [
    "def slow_manifold(y,t): # two state system, with no inputs\n",
    "\n",
    "    mu = -0.1\n",
    "    lam = -0.2\n",
    "\n",
    "    dy0 = mu*y[0]\n",
    "    dy1 = lam*(y[1] - y[0]**2)\n",
    "    \n",
    "    return[dy0,dy1]"
   ]
  },
  {
   "cell_type": "code",
   "execution_count": 63,
   "metadata": {},
   "outputs": [],
   "source": [
    "numStates = 2\n",
    "\n",
    "tStart = 0.0\n",
    "tEnd = 50\n",
    "dt = 0.1\n",
    "numTimepoints = int(round((tEnd-tStart)/dt))\n",
    "tSpan = np.linspace(tStart,tEnd,numTimepoints)\n",
    "\n",
    "numTrajectories = 100 # pick a number divisible by 2 for splitting into train and test sets\n",
    "\n",
    "data = np.zeros(shape=[numStates,numTimepoints,numTrajectories])\n",
    "for traj in range(0,numTrajectories):\n",
    "    x0 = np.random.uniform(0.01,1,numStates)\n",
    "    x = odeint(slow_manifold,x0,tSpan)\n",
    "    x = x.T[:,:,np.newaxis]\n",
    "    data[:,:,traj:traj+1] = x\n",
    "    \n",
    "    if numTrajectories < 21:\n",
    "        plt.figure();\n",
    "        h = plt.plot(tSpan,data[:,:,traj].T);\n",
    "        plt.legend((h[0],h[1]),('x1','x2'),loc='best');\n",
    "        plt.xlabel('time');\n",
    "        plt.ylabel('protein concentration');\n",
    "# plt.savefig('sample_traj.png')"
   ]
  },
  {
   "cell_type": "code",
   "execution_count": 64,
   "metadata": {},
   "outputs": [],
   "source": [
    "nSamples = 100\n",
    "sel_inds = [] # indices we will randomly select\n",
    "while len(sel_inds) < nSamples:\n",
    "    r = np.random.randint(0,data.shape[1])\n",
    "    if r not in sel_inds:\n",
    "        sel_inds.append(r)\n",
    "sel_inds.sort()      "
   ]
  },
  {
   "cell_type": "code",
   "execution_count": 65,
   "metadata": {},
   "outputs": [],
   "source": [
    "# getting a list of ∆t's for KG learning. \n",
    "sel_tSpan = tSpan[sel_inds]\n",
    "dt_list = []\n",
    "for i in range(0,len(sel_tSpan)-1):\n",
    "    dt_list.append(sel_tSpan[i+1] - sel_tSpan[i])\n",
    "dt_list_final = []\n",
    "for i in range(0,numTrajectories):\n",
    "    dt_list_final += dt_list"
   ]
  },
  {
   "cell_type": "code",
   "execution_count": 66,
   "metadata": {},
   "outputs": [],
   "source": [
    "data = data[:,sel_inds,:]"
   ]
  },
  {
   "cell_type": "code",
   "execution_count": 67,
   "metadata": {},
   "outputs": [],
   "source": [
    "data = data.reshape(numStates,int(nSamples*numTrajectories),order='F')"
   ]
  },
  {
   "cell_type": "code",
   "execution_count": 68,
   "metadata": {},
   "outputs": [],
   "source": [
    "pickle.dump([data,nSamples,numTrajectories,dt_list_final], open('slow_manifold_KG.p', 'wb'))"
   ]
  },
  {
   "cell_type": "code",
   "execution_count": null,
   "metadata": {},
   "outputs": [],
   "source": []
  },
  {
   "cell_type": "code",
   "execution_count": null,
   "metadata": {},
   "outputs": [],
   "source": []
  },
  {
   "cell_type": "code",
   "execution_count": null,
   "metadata": {},
   "outputs": [],
   "source": []
  },
  {
   "cell_type": "code",
   "execution_count": null,
   "metadata": {},
   "outputs": [],
   "source": []
  },
  {
   "cell_type": "code",
   "execution_count": null,
   "metadata": {},
   "outputs": [],
   "source": []
  },
  {
   "cell_type": "code",
   "execution_count": null,
   "metadata": {},
   "outputs": [],
   "source": []
  },
  {
   "cell_type": "code",
   "execution_count": null,
   "metadata": {},
   "outputs": [],
   "source": []
  },
  {
   "cell_type": "code",
   "execution_count": null,
   "metadata": {},
   "outputs": [],
   "source": []
  }
 ],
 "metadata": {
  "kernelspec": {
   "display_name": "Python 3",
   "language": "python",
   "name": "python3"
  },
  "language_info": {
   "codemirror_mode": {
    "name": "ipython",
    "version": 3
   },
   "file_extension": ".py",
   "mimetype": "text/x-python",
   "name": "python",
   "nbconvert_exporter": "python",
   "pygments_lexer": "ipython3",
   "version": "3.7.3"
  }
 },
 "nbformat": 4,
 "nbformat_minor": 2
}
