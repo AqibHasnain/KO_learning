{
 "cells": [
  {
   "cell_type": "code",
   "execution_count": 1,
   "metadata": {},
   "outputs": [
    {
     "name": "stderr",
     "output_type": "stream",
     "text": [
      "\n",
      "Bad key savefig.frameon in file /usr/local/lib/python3.7/site-packages/matplotlib/mpl-data/stylelib/_classic_test.mplstyle, line 421 ('savefig.frameon : True')\n",
      "You probably need to get an updated matplotlibrc file from\n",
      "https://github.com/matplotlib/matplotlib/blob/v3.3.1/matplotlibrc.template\n",
      "or from the matplotlib source distribution\n",
      "\n",
      "Bad key verbose.level in file /usr/local/lib/python3.7/site-packages/matplotlib/mpl-data/stylelib/_classic_test.mplstyle, line 472 ('verbose.level  : silent      # one of silent, helpful, debug, debug-annoying')\n",
      "You probably need to get an updated matplotlibrc file from\n",
      "https://github.com/matplotlib/matplotlib/blob/v3.3.1/matplotlibrc.template\n",
      "or from the matplotlib source distribution\n",
      "\n",
      "Bad key verbose.fileo in file /usr/local/lib/python3.7/site-packages/matplotlib/mpl-data/stylelib/_classic_test.mplstyle, line 473 ('verbose.fileo  : sys.stdout  # a log filename, sys.stdout or sys.stderr')\n",
      "You probably need to get an updated matplotlibrc file from\n",
      "https://github.com/matplotlib/matplotlib/blob/v3.3.1/matplotlibrc.template\n",
      "or from the matplotlib source distribution\n",
      "In /usr/local/lib/python3.7/site-packages/matplotlib/mpl-data/stylelib/_classic_test.mplstyle: \n",
      "The text.latex.preview rcparam was deprecated in Matplotlib 3.3 and will be removed two minor releases later.\n",
      "In /usr/local/lib/python3.7/site-packages/matplotlib/mpl-data/stylelib/_classic_test.mplstyle: \n",
      "The mathtext.fallback_to_cm rcparam was deprecated in Matplotlib 3.3 and will be removed two minor releases later.\n",
      "In /usr/local/lib/python3.7/site-packages/matplotlib/mpl-data/stylelib/_classic_test.mplstyle: Support for setting the 'mathtext.fallback_to_cm' rcParam is deprecated since 3.3 and will be removed two minor releases later; use 'mathtext.fallback : 'cm' instead.\n",
      "In /usr/local/lib/python3.7/site-packages/matplotlib/mpl-data/stylelib/_classic_test.mplstyle: \n",
      "The validate_bool_maybe_none function was deprecated in Matplotlib 3.3 and will be removed two minor releases later.\n",
      "In /usr/local/lib/python3.7/site-packages/matplotlib/mpl-data/stylelib/_classic_test.mplstyle: \n",
      "The savefig.jpeg_quality rcparam was deprecated in Matplotlib 3.3 and will be removed two minor releases later.\n",
      "In /usr/local/lib/python3.7/site-packages/matplotlib/mpl-data/stylelib/_classic_test.mplstyle: \n",
      "The keymap.all_axes rcparam was deprecated in Matplotlib 3.3 and will be removed two minor releases later.\n",
      "In /usr/local/lib/python3.7/site-packages/matplotlib/mpl-data/stylelib/_classic_test.mplstyle: \n",
      "The animation.avconv_path rcparam was deprecated in Matplotlib 3.3 and will be removed two minor releases later.\n",
      "In /usr/local/lib/python3.7/site-packages/matplotlib/mpl-data/stylelib/_classic_test.mplstyle: \n",
      "The animation.avconv_args rcparam was deprecated in Matplotlib 3.3 and will be removed two minor releases later.\n"
     ]
    }
   ],
   "source": [
    "import numpy as np\n",
    "import matplotlib.pyplot as plt\n",
    "plt.rcParams.update({'font.size':14})\n",
    "from scipy.integrate import odeint\n",
    "import pickle"
   ]
  },
  {
   "cell_type": "code",
   "execution_count": 2,
   "metadata": {},
   "outputs": [],
   "source": [
    "def slow_manifold(y,t): # two state system, with no inputs\n",
    "\n",
    "    mu = -0.1\n",
    "    lam = -0.2\n",
    "\n",
    "    dy0 = mu*y[0]\n",
    "    dy1 = lam*(y[1] - y[0]**2)\n",
    "    \n",
    "    return[dy0,dy1]"
   ]
  },
  {
   "cell_type": "code",
   "execution_count": 3,
   "metadata": {},
   "outputs": [],
   "source": [
    "numStates = 2\n",
    "\n",
    "tStart = 0.0\n",
    "tEnd = 50\n",
    "dt = 0.1\n",
    "numTimepoints = int(round((tEnd-tStart)/dt))\n",
    "tSpan = np.linspace(tStart,tEnd,numTimepoints)\n",
    "\n",
    "numTrajectories = 400 # pick a number divisible by 2 for splitting into train and test sets\n",
    "\n",
    "data = np.zeros(shape=[numStates,numTimepoints,numTrajectories])\n",
    "for traj in range(0,numTrajectories):\n",
    "    x0 = np.random.uniform(0.01,1,numStates)\n",
    "    x = odeint(slow_manifold,x0,tSpan)\n",
    "    x = x.T[:,:,np.newaxis]\n",
    "    data[:,:,traj:traj+1] = x\n",
    "    \n",
    "    if numTrajectories < 21:\n",
    "        plt.figure();\n",
    "        h = plt.plot(tSpan,data[:,:,traj].T);\n",
    "        plt.legend((h[0],h[1]),('x1','x2'),loc='best');\n",
    "        plt.xlabel('time');\n",
    "# plt.savefig('sample_traj.png')"
   ]
  },
  {
   "cell_type": "code",
   "execution_count": 4,
   "metadata": {},
   "outputs": [],
   "source": [
    "nSamples = 100\n",
    "sel_inds = [] # indices we will randomly select\n",
    "sel_inds.append(0)\n",
    "while len(sel_inds) < (nSamples):\n",
    "    r = np.random.randint(1,data.shape[1])\n",
    "    if r not in sel_inds:\n",
    "        sel_inds.append(r)\n",
    "sel_inds.sort() "
   ]
  },
  {
   "cell_type": "code",
   "execution_count": 5,
   "metadata": {},
   "outputs": [],
   "source": [
    "# getting a list of ∆t's for KG learning. \n",
    "sel_tSpan = tSpan[sel_inds]\n",
    "dt_list = []\n",
    "for i in range(0,len(sel_tSpan)-1):\n",
    "    dt_list.append(sel_tSpan[i+1] - sel_tSpan[i])\n",
    "dt_list_final = []\n",
    "for i in range(0,numTrajectories):\n",
    "    dt_list_final += dt_list"
   ]
  },
  {
   "cell_type": "code",
   "execution_count": 6,
   "metadata": {},
   "outputs": [],
   "source": [
    "data = data[:,sel_inds,:]"
   ]
  },
  {
   "cell_type": "code",
   "execution_count": 7,
   "metadata": {},
   "outputs": [],
   "source": [
    "# for traj in range(0,10):\n",
    "#     plt.figure();\n",
    "#     h = plt.plot(sel_tSpan,data[:,:,traj].T);\n",
    "#     plt.legend((h[0],h[1]),('x1','x2'),loc='best');\n",
    "#     plt.xlabel('time');\n"
   ]
  },
  {
   "cell_type": "code",
   "execution_count": 8,
   "metadata": {},
   "outputs": [],
   "source": [
    "data = data.reshape(numStates,int(nSamples*numTrajectories),order='F')"
   ]
  },
  {
   "cell_type": "code",
   "execution_count": 16,
   "metadata": {},
   "outputs": [],
   "source": [
    "import os\n",
    "os.chdir('..') # only run this once\n",
    "save_data_to = os.getcwd() + '/data/'\n",
    "pickle.dump([data,nSamples,numTrajectories,dt_list_final], open(save_data_to+'slow_manifold_KG.p', 'wb'))"
   ]
  },
  {
   "cell_type": "code",
   "execution_count": null,
   "metadata": {},
   "outputs": [],
   "source": []
  },
  {
   "cell_type": "code",
   "execution_count": null,
   "metadata": {},
   "outputs": [],
   "source": []
  },
  {
   "cell_type": "code",
   "execution_count": null,
   "metadata": {},
   "outputs": [],
   "source": []
  },
  {
   "cell_type": "code",
   "execution_count": null,
   "metadata": {},
   "outputs": [],
   "source": []
  }
 ],
 "metadata": {
  "kernelspec": {
   "display_name": "Python 3",
   "language": "python",
   "name": "python3"
  },
  "language_info": {
   "codemirror_mode": {
    "name": "ipython",
    "version": 3
   },
   "file_extension": ".py",
   "mimetype": "text/x-python",
   "name": "python",
   "nbconvert_exporter": "python",
   "pygments_lexer": "ipython3",
   "version": "3.7.3"
  }
 },
 "nbformat": 4,
 "nbformat_minor": 2
}
