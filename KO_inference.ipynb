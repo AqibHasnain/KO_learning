{
 "cells": [
  {
   "cell_type": "code",
   "execution_count": null,
   "metadata": {},
   "outputs": [],
   "source": [
    "import numpy as np\n",
    "import math\n",
    "import matplotlib.pyplot as plt\n",
    "import seaborn as sn\n",
    "import pickle\n",
    "import torch\n",
    "import os\n",
    "from deep_KO_learning import Net"
   ]
  },
  {
   "cell_type": "code",
   "execution_count": null,
   "metadata": {},
   "outputs": [],
   "source": [
    "### Loading trained network ### \n",
    "\n",
    "script_dir = os.path.dirname('deep_KO_learning.py') # getting relative path\n",
    "trained_models_path = os.path.join(script_dir, 'trained_models') # which relative path do you want to see\n",
    "data_path = os.path.join(script_dir,'data/')\n",
    "\n",
    "netsize_dir = trained_models_path + '/malathion_fluorescens_netsize.pickle' # contains the shape of network\n",
    "net_dir = trained_models_path+'/malathion_fluorescens_net.pt' # contains params of network\n",
    "\n",
    "NUM_INPUTS,NUM_OUTPUTS,HL_SIZES = pickle.load(open(netsize_dir,'rb'))\n",
    "\n",
    "model = Net(NUM_INPUTS,NUM_OUTPUTS,HL_SIZES)\n",
    "model.load_state_dict(torch.load(net_dir))\n",
    "model.eval();"
   ]
  },
  {
   "cell_type": "code",
   "execution_count": null,
   "metadata": {},
   "outputs": [],
   "source": [
    "### Loading corresponding dataset ###\n",
    "\n",
    "file_dir = 'malathion_fluorescens_tpm.p' # dataset\n",
    "\n",
    "def get_snapshot_matrices(X,nT,nTraj): \n",
    "    '''This function assumes the global snapshot matrix is constructed with trajectories \n",
    "        sequentially placed in the columns'''\n",
    "    prevInds = [x for x in range(0,nT-1)]\n",
    "    forInds = [x for x in range(1,nT)]\n",
    "    for i in range(0,nTraj-1):\n",
    "        if i == 0:\n",
    "            more_prevInds = [x + nT for x in prevInds]\n",
    "            more_forInds = [x + nT for x in forInds]\n",
    "        else: \n",
    "            more_prevInds = [x + nT for x in more_prevInds]\n",
    "            more_forInds = [x + nT for x in more_forInds]\n",
    "        prevInds = prevInds + more_prevInds\n",
    "        forInds = forInds + more_forInds\n",
    "    Xp = X[:,prevInds]\n",
    "    Xf = X[:,forInds]\n",
    "    return Xp,Xf\n",
    "\n",
    "X,nT,nTraj = pickle.load(open(data_path+file_dir,'rb'))\n",
    "Xp,Xf = get_snapshot_matrices(X,nT,nTraj)\n",
    "trainXp = torch.Tensor(Xp.T)\n",
    "trainXf = torch.Tensor(Xf.T)\n",
    "testX = torch.Tensor(X.T)\n",
    "\n",
    "numDatapoints = nT*nTraj # number of total snapshots\n",
    "\n",
    "print('Dimension of the state: ' + str(trainXp.shape[1]));\n",
    "print('Number of trajectories: ' + str(nTraj));\n",
    "print('Number of total snapshots: ' + str(nT*nTraj));"
   ]
  },
  {
   "cell_type": "code",
   "execution_count": null,
   "metadata": {},
   "outputs": [],
   "source": [
    "K = model.linears[-1].weight[:].detach().numpy()\n",
    "PsiX_test = (model(testX)['PsiXf']).detach().numpy().T"
   ]
  },
  {
   "cell_type": "code",
   "execution_count": null,
   "metadata": {},
   "outputs": [],
   "source": [
    "import math\n",
    "theta = np.linspace(0,2*math.pi,100)\n",
    "x = np.cos(theta)\n",
    "y = np.sin(theta)\n",
    "L = np.linalg.eigvals(K)\n",
    "fig1 = plt.figure();\n",
    "plt.title('eigenvalues of linear operator')\n",
    "plt.plot(np.real(L),np.imag(L),'o')\n",
    "plt.plot(x,y)\n",
    "plt.axis('equal')\n",
    "plt.grid('on')   "
   ]
  },
  {
   "cell_type": "code",
   "execution_count": null,
   "metadata": {},
   "outputs": [],
   "source": [
    "### N-step prediction ###\n",
    "\n",
    "PsiX_pred = np.zeros((K.shape[0],numDatapoints))\n",
    "count = 0\n",
    "for i in range(0,nTraj):\n",
    "    psix_test_ic = PsiX_test[:,i*nT:i*nT+1]\n",
    "    for j in range(0,nT):\n",
    "        PsiX_pred[:,count:count+1] = np.dot(np.linalg.matrix_power(K,j),psix_test_ic) \n",
    "        count += 1"
   ]
  },
  {
   "cell_type": "code",
   "execution_count": null,
   "metadata": {
    "scrolled": true
   },
   "outputs": [],
   "source": [
    "### plotting predictions ### \n",
    "\n",
    "nrows = 5\n",
    "ncols = 3\n",
    "plotidx = np.random.randint(1,PsiX_test.shape[0],nrows*ncols)\n",
    "plt.rcParams.update({'font.size': 12})\n",
    "\n",
    "fig, ax = plt.subplots(nrows, ncols, figsize=(15, 10))\n",
    "plt.suptitle('M-step predictions')\n",
    "idx = 0\n",
    "for row in range(nrows):\n",
    "    for col in range(ncols):\n",
    "            ax[row,col].plot(PsiX_pred[plotidx[idx],:],'o--',ms=16,mec='black',lw=6,color='tab:blue');\n",
    "            ax[row,col].plot(PsiX_test[plotidx[idx],:],'s--',ms=8,mec='black',lw=4,color='tab:orange');\n",
    "            ax[row,col].grid()\n",
    "            ax[row,col].spines['right'].set_visible(False)\n",
    "            ax[row,col].spines['top'].set_visible(False)\n",
    "            idx += 1\n",
    "# in the above n-step pred plots, all trajectory predictions are plotted in the same figure. "
   ]
  },
  {
   "cell_type": "code",
   "execution_count": null,
   "metadata": {},
   "outputs": [],
   "source": [
    "numObs = K.shape[0]\n",
    "L, V = np.linalg.eig(K)\n",
    "sortLinds = (np.argsort(np.absolute(L)))[::-1]\n",
    "V = V[:,sortLinds]\n",
    "W = np.linalg.inv(V)\n",
    "p = 20 # numObs\n",
    "Wh = np.dot(np.concatenate((np.identity(p),np.zeros((p,numObs-p))),axis=1),W)\n",
    "Yo = Wh @ PsiX_test"
   ]
  },
  {
   "cell_type": "code",
   "execution_count": null,
   "metadata": {
    "scrolled": false
   },
   "outputs": [],
   "source": [
    "# plot observable modes after smoothing \n",
    "from scipy.interpolate import make_interp_spline\n",
    "\n",
    "tSpan = np.linspace(0,nT-1,nT)\n",
    "tNew = np.linspace(tSpan.min(), tSpan.max(), 200)\n",
    "\n",
    "plt.rcParams.update({'font.size': 16})\n",
    "\n",
    "plt.figure(figsize=(12,7));\n",
    "Ysmooth = np.zeros([len(Yo),len(tNew)])\n",
    "for i in range(0,Yo.shape[0]):\n",
    "    spl = make_interp_spline(tSpan, np.real(Yo[i,0:nT]), k=3)\n",
    "    Ysmooth[i,:] = spl(tNew)\n",
    "    plt.plot(tNew, Ysmooth[i,:],'o-',lw=4);\n",
    "plt.title('Smoothed observable modes')\n",
    "plt.xlabel('time')\n",
    "plt.ylabel(r'$Real(y_{obs})$')\n",
    "plt.gca().spines['top'].set_visible(False)\n",
    "plt.gca().spines['right'].set_visible(False)"
   ]
  },
  {
   "cell_type": "code",
   "execution_count": null,
   "metadata": {},
   "outputs": [],
   "source": [
    "### Sensitivity analysis ###\n",
    "\n",
    "def calc_SensitivityMat(Wh,net,X_global,nGridpts,nOutputs):\n",
    "    ''' Output sensitivity matrix is calculated by perturbing a single element of the state at a \n",
    "        time, computing the resulting outputs, subtracting the mean output from the resulting outputs,\n",
    "        and finally averaging over the mean subtracted resultant outputs. \n",
    "    '''\n",
    "    X_mean = np.mean(X_global,axis=1).reshape(X_global.shape[0],1) # the reference values\n",
    "    PsiX_mean = (net(torch.Tensor(X_mean.T))['PsiXf']).detach().numpy().T \n",
    "    X_std = np.std(X_global,axis=1).reshape(X_global.shape[0],1)\n",
    "    \n",
    "    y_mean = np.dot(Wh,PsiX_mean)\n",
    "    \n",
    "    X_range = np.zeros((len(X_mean),nGridpts))\n",
    "    for i in range(0,len(X_mean)):\n",
    "        X_range[i,:] = np.linspace(X_mean[i]-X_std[i],X_mean[i]+X_std[i],nGridpts).T\n",
    "        \n",
    "    from copy import deepcopy\n",
    "    S = np.zeros((nOutputs,X_global.shape[0]),dtype=complex) # sensitivity matrix \n",
    "    for s in range(0,S.shape[1]):\n",
    "        X_sens = deepcopy(X_mean)\n",
    "        Y = np.zeros((nOutputs,nGridpts),dtype=complex)\n",
    "        for i in range(0,nGridpts): # looping through the various perturbations of state s\n",
    "            X_sens[s,:] = X_range[s,i]\n",
    "            PsiX_sens = (net(torch.Tensor(X_sens.T))['PsiXf']).detach().numpy().T    \n",
    "            Y_sens = np.dot(Wh,PsiX_sens)\n",
    "            Y[:,i:i+1] = Y_sens - y_mean # Take away y(x_mean) from every column of Y_sens\n",
    "        S[:,s] = np.mean(Y,axis=1)\n",
    "\n",
    "    # normalizing S to be between 0 and 1. \n",
    "    S = S/np.max(S)\n",
    "    for i in range(S.shape[0]):\n",
    "        for j in range(S.shape[1]):\n",
    "            S[i,j] = np.linalg.norm(S[i,j])\n",
    "            \n",
    "    return S.real\n",
    "\n",
    "nGridpts = 100\n",
    "S = calc_SensitivityMat(Wh,model,X,nGridpts,p)\n"
   ]
  },
  {
   "cell_type": "code",
   "execution_count": null,
   "metadata": {},
   "outputs": [],
   "source": [
    "plt.figure(figsize=(20,10));\n",
    "sn.heatmap(S,cmap='viridis');\n",
    "\n",
    "colNorms = []\n",
    "for i in range(0,S.shape[1]):\n",
    "    colNorms.append(np.linalg.norm(S[:,i],ord=2))"
   ]
  },
  {
   "cell_type": "code",
   "execution_count": null,
   "metadata": {},
   "outputs": [],
   "source": [
    "colNorms = np.array(colNorms)\n",
    "num2sel = 50\n",
    "inds_maxcolNorms = np.flip(colNorms.argsort()[-num2sel:])\n",
    "maxcolNorm = colNorms[colNorms.argsort()[-num2sel:]]\n",
    "\n",
    "# plot means of background subtracted data\n",
    "nrows = 10\n",
    "ncols = 5\n",
    "plt.rcParams.update({'font.size': 12})\n",
    "f1, ax1 = plt.subplots(nrows, ncols, figsize=(20, 40))\n",
    "idx = 0\n",
    "for row in range(0,nrows):\n",
    "    for col in range(0,ncols):\n",
    "            ax1[row,col].plot(X[inds_maxcolNorms[idx],:],'o--',color='tab:blue')\n",
    "            ax1[row,col].spines['right'].set_visible(False)\n",
    "            ax1[row,col].spines['top'].set_visible(False)\n",
    "            idx += 1"
   ]
  },
  {
   "cell_type": "code",
   "execution_count": null,
   "metadata": {},
   "outputs": [],
   "source": [
    "inds_maxcolNorms"
   ]
  }
 ],
 "metadata": {
  "kernelspec": {
   "display_name": "Python 3",
   "language": "python",
   "name": "python3"
  },
  "language_info": {
   "codemirror_mode": {
    "name": "ipython",
    "version": 3
   },
   "file_extension": ".py",
   "mimetype": "text/x-python",
   "name": "python",
   "nbconvert_exporter": "python",
   "pygments_lexer": "ipython3",
   "version": "3.8.6"
  }
 },
 "nbformat": 4,
 "nbformat_minor": 2
}
